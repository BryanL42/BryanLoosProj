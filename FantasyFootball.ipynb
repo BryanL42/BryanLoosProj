{
  "nbformat": 4,
  "nbformat_minor": 0,
  "metadata": {
    "colab": {
      "name": "FantasyFootball.ipynb",
      "provenance": [],
      "collapsed_sections": [],
      "authorship_tag": "ABX9TyNP5pZ97j81YVnNjSOoAuvx",
      "include_colab_link": true
    },
    "kernelspec": {
      "name": "python3",
      "display_name": "Python 3"
    }
  },
  "cells": [
    {
      "cell_type": "markdown",
      "metadata": {
        "id": "view-in-github",
        "colab_type": "text"
      },
      "source": [
        "<a href=\"https://colab.research.google.com/github/BryanL42/BryanLoosProj/blob/main/FantasyFootball.ipynb\" target=\"_parent\"><img src=\"https://colab.research.google.com/assets/colab-badge.svg\" alt=\"Open In Colab\"/></a>"
      ]
    },
    {
      "cell_type": "code",
      "metadata": {
        "colab": {
          "base_uri": "https://localhost:8080/",
          "height": 17
        },
        "id": "CIpj9EdjeqIZ",
        "outputId": "f87b1bd3-6384-4e32-a69d-78c2b7687c2c"
      },
      "source": [
        "import json\r\n",
        "import requests\r\n",
        "import bs4\r\n",
        "import lxml.etree as xml\r\n",
        "import csv\r\n",
        "from bs4 import BeautifulSoup\r\n",
        "\r\n",
        "url = 'https://www.fantasypros.com/nfl/adp/half-point-ppr-overall.php'\r\n",
        "r = requests.get(url)\r\n",
        "requests.get(URL, {}).text\r\n",
        "soup = bs4.BeautifulSoup(requests.get(URL, {}).text, \"lxml\")\r\n",
        "#print(soup)\r\n",
        "tab = soup.find(\"table\",{\"class\":\"table adp\"})\r\n",
        "headers = [th.text.encode(\"utf-8\") for th in tab.select(\"tr th\")]\r\n",
        "with open(\"out.csv\", \"w\") as f:\r\n",
        "    wr = csv.writer(f)\r\n",
        "    wr.writerow(headers)\r\n",
        "    wr.writerows([[td.text.encode(\"utf-8\") for td in row.find_all(\"td\")] for row in tab.select(\"tr + tr\")])\r\n",
        "\r\n",
        "from google.colab import files\r\n",
        "files.download(\"out.csv\")\r\n",
        "\r\n",
        "\r\n",
        "  "
      ],
      "execution_count": 91,
      "outputs": [
        {
          "output_type": "display_data",
          "data": {
            "application/javascript": [
              "\n",
              "    async function download(id, filename, size) {\n",
              "      if (!google.colab.kernel.accessAllowed) {\n",
              "        return;\n",
              "      }\n",
              "      const div = document.createElement('div');\n",
              "      const label = document.createElement('label');\n",
              "      label.textContent = `Downloading \"${filename}\": `;\n",
              "      div.appendChild(label);\n",
              "      const progress = document.createElement('progress');\n",
              "      progress.max = size;\n",
              "      div.appendChild(progress);\n",
              "      document.body.appendChild(div);\n",
              "\n",
              "      const buffers = [];\n",
              "      let downloaded = 0;\n",
              "\n",
              "      const channel = await google.colab.kernel.comms.open(id);\n",
              "      // Send a message to notify the kernel that we're ready.\n",
              "      channel.send({})\n",
              "\n",
              "      for await (const message of channel.messages) {\n",
              "        // Send a message to notify the kernel that we're ready.\n",
              "        channel.send({})\n",
              "        if (message.buffers) {\n",
              "          for (const buffer of message.buffers) {\n",
              "            buffers.push(buffer);\n",
              "            downloaded += buffer.byteLength;\n",
              "            progress.value = downloaded;\n",
              "          }\n",
              "        }\n",
              "      }\n",
              "      const blob = new Blob(buffers, {type: 'application/binary'});\n",
              "      const a = document.createElement('a');\n",
              "      a.href = window.URL.createObjectURL(blob);\n",
              "      a.download = filename;\n",
              "      div.appendChild(a);\n",
              "      a.click();\n",
              "      div.remove();\n",
              "    }\n",
              "  "
            ],
            "text/plain": [
              "<IPython.core.display.Javascript object>"
            ]
          },
          "metadata": {
            "tags": []
          }
        },
        {
          "output_type": "display_data",
          "data": {
            "application/javascript": [
              "download(\"download_1921cd5d-b8ad-4ea6-b846-4a22969e539f\", \"out.csv\", 22758)"
            ],
            "text/plain": [
              "<IPython.core.display.Javascript object>"
            ]
          },
          "metadata": {
            "tags": []
          }
        }
      ]
    },
    {
      "cell_type": "code",
      "metadata": {
        "id": "LR18pbVa4_PF"
      },
      "source": [
        ""
      ],
      "execution_count": null,
      "outputs": []
    },
    {
      "cell_type": "code",
      "metadata": {
        "id": "tsiTtNOv4_hL"
      },
      "source": [
        ""
      ],
      "execution_count": null,
      "outputs": []
    },
    {
      "cell_type": "markdown",
      "metadata": {
        "id": "PLGududYHTzP"
      },
      "source": [
        "# New Section"
      ]
    },
    {
      "cell_type": "markdown",
      "metadata": {
        "id": "6jV8Zrh5HUL6"
      },
      "source": [
        "# New Section"
      ]
    }
  ]
}